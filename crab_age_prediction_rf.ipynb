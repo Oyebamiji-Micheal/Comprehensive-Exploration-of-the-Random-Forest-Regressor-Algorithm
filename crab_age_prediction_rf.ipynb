{
 "cells": [
  {
   "cell_type": "markdown",
   "id": "ca1c8774",
   "metadata": {},
   "source": [
    "<h1 style=\"text-align: center;\">Predicting Crab Ages using Random Forest</h1>"
   ]
  },
  {
   "cell_type": "markdown",
   "id": "a9540d9a",
   "metadata": {},
   "source": [
    "<a id='table_of_contents'></a>\n",
    "<h2 style=\"background-color:#0b0504;color:;border-radius: 8px; padding:12px\">Table of Contents</h2>\n",
    "\n",
    "1. <a href=\"#download\" style=\"text-decoration: None\">Download Data</a>\n",
    "2. <a href=\"#import\" style=\"text-decoration: None\">Import Libraries and Dataset</a>\n",
    "3. <a href=\"#data_preview\" style=\"text-decoration: None\">Dataset Preview</a>\n",
    "4. <a href=\"#data_wrangling\" style=\"text-decoration: None\">Data Wrangling</a>\n",
    "5. <a href=\"#eda\" style=\"text-decoration: None\">Exploratory Data Analysis</a>\n",
    "    - <a href=\"#univariate\" style=\"text-decoration: None\">Univariate Analysis</a>\n",
    "    - <a href=\"#bivariate\" style=\"text-decoration: None\">Bivariate Analysis</a>\n",
    "6. <a href=\"#data_preprocessing\" style=\"text-decoration: None\">Data Preparation and Preprocessing</a>\n",
    "7. <a href=\"#baseline\" style=\"text-decoration: None\">Baseline Models</a>\n",
    "8. <a href=\"#optimization\" style=\"text-decoration: None\">Optimization: Hyperparameter Tuning</a>\n",
    "9. <a href=\"#performance_summary\" style=\"text-decoration: None\">Performance Comparison and Summary</a>\n",
    "10. <a href=\"#save_model\" style=\"text-decoration: None\">Save Model</a>"
   ]
  },
  {
   "cell_type": "markdown",
   "id": "49955816",
   "metadata": {},
   "source": [
    "<a id=\"download\"></a>\n",
    "<h2 style=\"background-color:#0b0504;color:white;border-radius: 8px; padding:12px\">1. Download Data</h2>\n",
    "\n",
    "<a href=\"#table_of_contents\" style=\"text-decoration: None\">Table of Contents</a>"
   ]
  },
  {
   "cell_type": "markdown",
   "id": "fa555761",
   "metadata": {},
   "source": [
    "I have downloaded the dataset directly within the Jupyter notebook using Jovian's `opendatasets` library. The dataset description can be found <a href=\"https://www.kaggle.com/competitions/playground-series-s3e16/data\" style=\"text-decoration: None\">here</a>.\n",
    "\n",
    "<strong>Note: Uncomment the following code cells if you are working outside of Kaggle environment.</strong>"
   ]
  },
  {
   "cell_type": "code",
   "execution_count": 1,
   "id": "5e5cb02d",
   "metadata": {},
   "outputs": [],
   "source": [
    "import os\n",
    "import opendatasets as od"
   ]
  },
  {
   "cell_type": "code",
   "execution_count": 2,
   "id": "f5d13324",
   "metadata": {},
   "outputs": [
    {
     "name": "stdout",
     "output_type": "stream",
     "text": [
      "Skipping, found downloaded files in \".\\playground-series-s3e16\" (use force=True to force download)\n"
     ]
    }
   ],
   "source": [
    "od.download('https://www.kaggle.com/competitions/playground-series-s3e16/data')"
   ]
  },
  {
   "cell_type": "code",
   "execution_count": 3,
   "id": "af6592e0",
   "metadata": {},
   "outputs": [
    {
     "name": "stdout",
     "output_type": "stream",
     "text": [
      "['sample']\n"
     ]
    }
   ],
   "source": [
    "print(['sample'])"
   ]
  },
  {
   "cell_type": "code",
   "execution_count": 4,
   "id": "73186c75",
   "metadata": {
    "scrolled": false
   },
   "outputs": [
    {
     "data": {
      "text/plain": [
       "['sample_submission.csv', 'test.csv', 'train.csv']"
      ]
     },
     "execution_count": 4,
     "metadata": {},
     "output_type": "execute_result"
    }
   ],
   "source": [
    "os.listdir('playground-series-s3e16')"
   ]
  },
  {
   "cell_type": "markdown",
   "id": "5c489d46",
   "metadata": {},
   "source": [
    "<a id=\"import\"></a>\n",
    "<h2 style=\"background-color:#0b0504;color:white;border-radius: 8px; padding:12px\">2. Import Libraries and Dataset</h2>\n",
    "\n",
    "<a href=\"#table_of_contents\" style=\"text-decoration: None\">Table of Contents</a>"
   ]
  },
  {
   "cell_type": "code",
   "execution_count": 5,
   "id": "910f2511",
   "metadata": {},
   "outputs": [],
   "source": [
    "import numpy as np\n",
    "import pandas as pd\n",
    "pd.set_option(\"display.max_columns\", 120)\n",
    "pd.set_option(\"display.max_rows\", 120)\n",
    "\n",
    "import warnings \n",
    "warnings.filterwarnings(\"ignore\")"
   ]
  },
  {
   "cell_type": "code",
   "execution_count": 6,
   "id": "1a629f63",
   "metadata": {},
   "outputs": [],
   "source": [
    "train_df = pd.read_csv('playground-series-s3e16/train.csv')\n",
    "test_df = pd.read_csv('playground-series-s3e16/test.csv')\n",
    "sub_df = pd.read_csv('playground-series-s3e16/sample_submission.csv')"
   ]
  },
  {
   "cell_type": "markdown",
   "id": "747688fa",
   "metadata": {},
   "source": [
    "<a id=\"data_preview\"></a>\n",
    "<h2 style=\"background-color:#0b0504;color:white;border-radius: 8px; padding:12px\">3. Dataset Preview</h2>\n",
    "\n",
    "<a href=\"#table_of_contents\" style=\"text-decoration: None\">Table of Contents</a>"
   ]
  },
  {
   "cell_type": "markdown",
   "id": "0fcb98f1",
   "metadata": {},
   "source": [
    "Here I will perform a preliminary analysis by assessing the quality of the data. This involves checking for incorrect data type, missing values, duplicates, summary statistics, erroneous data and so on."
   ]
  },
  {
   "cell_type": "code",
   "execution_count": 7,
   "id": "dc612f52",
   "metadata": {
    "scrolled": true
   },
   "outputs": [
    {
     "data": {
      "text/html": [
       "<div>\n",
       "<style scoped>\n",
       "    .dataframe tbody tr th:only-of-type {\n",
       "        vertical-align: middle;\n",
       "    }\n",
       "\n",
       "    .dataframe tbody tr th {\n",
       "        vertical-align: top;\n",
       "    }\n",
       "\n",
       "    .dataframe thead th {\n",
       "        text-align: right;\n",
       "    }\n",
       "</style>\n",
       "<table border=\"1\" class=\"dataframe\">\n",
       "  <thead>\n",
       "    <tr style=\"text-align: right;\">\n",
       "      <th></th>\n",
       "      <th>id</th>\n",
       "      <th>Sex</th>\n",
       "      <th>Length</th>\n",
       "      <th>Diameter</th>\n",
       "      <th>Height</th>\n",
       "      <th>Weight</th>\n",
       "      <th>Shucked Weight</th>\n",
       "      <th>Viscera Weight</th>\n",
       "      <th>Shell Weight</th>\n",
       "      <th>Age</th>\n",
       "    </tr>\n",
       "  </thead>\n",
       "  <tbody>\n",
       "    <tr>\n",
       "      <th>0</th>\n",
       "      <td>0</td>\n",
       "      <td>I</td>\n",
       "      <td>1.5250</td>\n",
       "      <td>1.1750</td>\n",
       "      <td>0.3750</td>\n",
       "      <td>28.973189</td>\n",
       "      <td>12.728926</td>\n",
       "      <td>6.647958</td>\n",
       "      <td>8.348928</td>\n",
       "      <td>9</td>\n",
       "    </tr>\n",
       "    <tr>\n",
       "      <th>1</th>\n",
       "      <td>1</td>\n",
       "      <td>I</td>\n",
       "      <td>1.1000</td>\n",
       "      <td>0.8250</td>\n",
       "      <td>0.2750</td>\n",
       "      <td>10.418441</td>\n",
       "      <td>4.521745</td>\n",
       "      <td>2.324659</td>\n",
       "      <td>3.401940</td>\n",
       "      <td>8</td>\n",
       "    </tr>\n",
       "    <tr>\n",
       "      <th>2</th>\n",
       "      <td>2</td>\n",
       "      <td>M</td>\n",
       "      <td>1.3875</td>\n",
       "      <td>1.1125</td>\n",
       "      <td>0.3750</td>\n",
       "      <td>24.777463</td>\n",
       "      <td>11.339800</td>\n",
       "      <td>5.556502</td>\n",
       "      <td>6.662133</td>\n",
       "      <td>9</td>\n",
       "    </tr>\n",
       "    <tr>\n",
       "      <th>3</th>\n",
       "      <td>3</td>\n",
       "      <td>F</td>\n",
       "      <td>1.7000</td>\n",
       "      <td>1.4125</td>\n",
       "      <td>0.5000</td>\n",
       "      <td>50.660556</td>\n",
       "      <td>20.354941</td>\n",
       "      <td>10.991839</td>\n",
       "      <td>14.996885</td>\n",
       "      <td>11</td>\n",
       "    </tr>\n",
       "    <tr>\n",
       "      <th>4</th>\n",
       "      <td>4</td>\n",
       "      <td>I</td>\n",
       "      <td>1.2500</td>\n",
       "      <td>1.0125</td>\n",
       "      <td>0.3375</td>\n",
       "      <td>23.289114</td>\n",
       "      <td>11.977664</td>\n",
       "      <td>4.507570</td>\n",
       "      <td>5.953395</td>\n",
       "      <td>8</td>\n",
       "    </tr>\n",
       "  </tbody>\n",
       "</table>\n",
       "</div>"
      ],
      "text/plain": [
       "   id Sex  Length  Diameter  Height     Weight  Shucked Weight  \\\n",
       "0   0   I  1.5250    1.1750  0.3750  28.973189       12.728926   \n",
       "1   1   I  1.1000    0.8250  0.2750  10.418441        4.521745   \n",
       "2   2   M  1.3875    1.1125  0.3750  24.777463       11.339800   \n",
       "3   3   F  1.7000    1.4125  0.5000  50.660556       20.354941   \n",
       "4   4   I  1.2500    1.0125  0.3375  23.289114       11.977664   \n",
       "\n",
       "   Viscera Weight  Shell Weight  Age  \n",
       "0        6.647958      8.348928    9  \n",
       "1        2.324659      3.401940    8  \n",
       "2        5.556502      6.662133    9  \n",
       "3       10.991839     14.996885   11  \n",
       "4        4.507570      5.953395    8  "
      ]
     },
     "execution_count": 7,
     "metadata": {},
     "output_type": "execute_result"
    }
   ],
   "source": [
    "train_df.head()"
   ]
  },
  {
   "cell_type": "code",
   "execution_count": 8,
   "id": "07329676",
   "metadata": {},
   "outputs": [
    {
     "data": {
      "text/plain": [
       "(74051, 10)"
      ]
     },
     "execution_count": 8,
     "metadata": {},
     "output_type": "execute_result"
    }
   ],
   "source": [
    "train_df.shape"
   ]
  },
  {
   "cell_type": "code",
   "execution_count": 9,
   "id": "bef74eb2",
   "metadata": {},
   "outputs": [
    {
     "data": {
      "text/html": [
       "<div>\n",
       "<style scoped>\n",
       "    .dataframe tbody tr th:only-of-type {\n",
       "        vertical-align: middle;\n",
       "    }\n",
       "\n",
       "    .dataframe tbody tr th {\n",
       "        vertical-align: top;\n",
       "    }\n",
       "\n",
       "    .dataframe thead th {\n",
       "        text-align: right;\n",
       "    }\n",
       "</style>\n",
       "<table border=\"1\" class=\"dataframe\">\n",
       "  <thead>\n",
       "    <tr style=\"text-align: right;\">\n",
       "      <th></th>\n",
       "      <th>count</th>\n",
       "      <th>mean</th>\n",
       "      <th>std</th>\n",
       "      <th>min</th>\n",
       "      <th>25%</th>\n",
       "      <th>50%</th>\n",
       "      <th>75%</th>\n",
       "      <th>max</th>\n",
       "    </tr>\n",
       "  </thead>\n",
       "  <tbody>\n",
       "    <tr>\n",
       "      <th>id</th>\n",
       "      <td>74051.0</td>\n",
       "      <td>37025.000000</td>\n",
       "      <td>21376.826729</td>\n",
       "      <td>0.000000</td>\n",
       "      <td>18512.500000</td>\n",
       "      <td>37025.000000</td>\n",
       "      <td>55537.500000</td>\n",
       "      <td>74050.000000</td>\n",
       "    </tr>\n",
       "    <tr>\n",
       "      <th>Length</th>\n",
       "      <td>74051.0</td>\n",
       "      <td>1.317460</td>\n",
       "      <td>0.287757</td>\n",
       "      <td>0.187500</td>\n",
       "      <td>1.150000</td>\n",
       "      <td>1.375000</td>\n",
       "      <td>1.537500</td>\n",
       "      <td>2.012815</td>\n",
       "    </tr>\n",
       "    <tr>\n",
       "      <th>Diameter</th>\n",
       "      <td>74051.0</td>\n",
       "      <td>1.024496</td>\n",
       "      <td>0.237396</td>\n",
       "      <td>0.137500</td>\n",
       "      <td>0.887500</td>\n",
       "      <td>1.075000</td>\n",
       "      <td>1.200000</td>\n",
       "      <td>1.612500</td>\n",
       "    </tr>\n",
       "    <tr>\n",
       "      <th>Height</th>\n",
       "      <td>74051.0</td>\n",
       "      <td>0.348089</td>\n",
       "      <td>0.092034</td>\n",
       "      <td>0.000000</td>\n",
       "      <td>0.300000</td>\n",
       "      <td>0.362500</td>\n",
       "      <td>0.412500</td>\n",
       "      <td>2.825000</td>\n",
       "    </tr>\n",
       "    <tr>\n",
       "      <th>Weight</th>\n",
       "      <td>74051.0</td>\n",
       "      <td>23.385217</td>\n",
       "      <td>12.648153</td>\n",
       "      <td>0.056699</td>\n",
       "      <td>13.437663</td>\n",
       "      <td>23.799405</td>\n",
       "      <td>32.162508</td>\n",
       "      <td>80.101512</td>\n",
       "    </tr>\n",
       "    <tr>\n",
       "      <th>Shucked Weight</th>\n",
       "      <td>74051.0</td>\n",
       "      <td>10.104270</td>\n",
       "      <td>5.618025</td>\n",
       "      <td>0.028349</td>\n",
       "      <td>5.712424</td>\n",
       "      <td>9.908150</td>\n",
       "      <td>14.033003</td>\n",
       "      <td>42.184056</td>\n",
       "    </tr>\n",
       "    <tr>\n",
       "      <th>Viscera Weight</th>\n",
       "      <td>74051.0</td>\n",
       "      <td>5.058386</td>\n",
       "      <td>2.792729</td>\n",
       "      <td>0.042524</td>\n",
       "      <td>2.863300</td>\n",
       "      <td>4.989512</td>\n",
       "      <td>6.988152</td>\n",
       "      <td>21.545620</td>\n",
       "    </tr>\n",
       "    <tr>\n",
       "      <th>Shell Weight</th>\n",
       "      <td>74051.0</td>\n",
       "      <td>6.723870</td>\n",
       "      <td>3.584372</td>\n",
       "      <td>0.042524</td>\n",
       "      <td>3.968930</td>\n",
       "      <td>6.931453</td>\n",
       "      <td>9.071840</td>\n",
       "      <td>28.491248</td>\n",
       "    </tr>\n",
       "    <tr>\n",
       "      <th>Age</th>\n",
       "      <td>74051.0</td>\n",
       "      <td>9.967806</td>\n",
       "      <td>3.175189</td>\n",
       "      <td>1.000000</td>\n",
       "      <td>8.000000</td>\n",
       "      <td>10.000000</td>\n",
       "      <td>11.000000</td>\n",
       "      <td>29.000000</td>\n",
       "    </tr>\n",
       "  </tbody>\n",
       "</table>\n",
       "</div>"
      ],
      "text/plain": [
       "                  count          mean           std       min           25%  \\\n",
       "id              74051.0  37025.000000  21376.826729  0.000000  18512.500000   \n",
       "Length          74051.0      1.317460      0.287757  0.187500      1.150000   \n",
       "Diameter        74051.0      1.024496      0.237396  0.137500      0.887500   \n",
       "Height          74051.0      0.348089      0.092034  0.000000      0.300000   \n",
       "Weight          74051.0     23.385217     12.648153  0.056699     13.437663   \n",
       "Shucked Weight  74051.0     10.104270      5.618025  0.028349      5.712424   \n",
       "Viscera Weight  74051.0      5.058386      2.792729  0.042524      2.863300   \n",
       "Shell Weight    74051.0      6.723870      3.584372  0.042524      3.968930   \n",
       "Age             74051.0      9.967806      3.175189  1.000000      8.000000   \n",
       "\n",
       "                         50%           75%           max  \n",
       "id              37025.000000  55537.500000  74050.000000  \n",
       "Length              1.375000      1.537500      2.012815  \n",
       "Diameter            1.075000      1.200000      1.612500  \n",
       "Height              0.362500      0.412500      2.825000  \n",
       "Weight             23.799405     32.162508     80.101512  \n",
       "Shucked Weight      9.908150     14.033003     42.184056  \n",
       "Viscera Weight      4.989512      6.988152     21.545620  \n",
       "Shell Weight        6.931453      9.071840     28.491248  \n",
       "Age                10.000000     11.000000     29.000000  "
      ]
     },
     "execution_count": 9,
     "metadata": {},
     "output_type": "execute_result"
    }
   ],
   "source": [
    "train_df.describe().T"
   ]
  },
  {
   "cell_type": "code",
   "execution_count": 10,
   "id": "37127436",
   "metadata": {},
   "outputs": [
    {
     "name": "stdout",
     "output_type": "stream",
     "text": [
      "<class 'pandas.core.frame.DataFrame'>\n",
      "RangeIndex: 74051 entries, 0 to 74050\n",
      "Data columns (total 10 columns):\n",
      " #   Column          Non-Null Count  Dtype  \n",
      "---  ------          --------------  -----  \n",
      " 0   id              74051 non-null  int64  \n",
      " 1   Sex             74051 non-null  object \n",
      " 2   Length          74051 non-null  float64\n",
      " 3   Diameter        74051 non-null  float64\n",
      " 4   Height          74051 non-null  float64\n",
      " 5   Weight          74051 non-null  float64\n",
      " 6   Shucked Weight  74051 non-null  float64\n",
      " 7   Viscera Weight  74051 non-null  float64\n",
      " 8   Shell Weight    74051 non-null  float64\n",
      " 9   Age             74051 non-null  int64  \n",
      "dtypes: float64(7), int64(2), object(1)\n",
      "memory usage: 5.6+ MB\n"
     ]
    }
   ],
   "source": [
    "train_df.info()"
   ]
  },
  {
   "cell_type": "markdown",
   "id": "963076bc",
   "metadata": {},
   "source": [
    "<a id=\"data_wrangling\"></a>\n",
    "<h2 style=\"background-color:#0b0504;color:white;border-radius: 8px; padding:12px\">4. Data Wrangling</h2>\n",
    "\n",
    "<a href=\"#table_of_contents\" style=\"text-decoration: None\">Table of Contents</a>"
   ]
  },
  {
   "cell_type": "markdown",
   "id": "c9105eb2",
   "metadata": {},
   "source": [
    "<a id=\"data_wrangling\"></a>\n",
    "<h4 style=\"background-color:#0b0504;color:white;border-radius: 8px; padding:12px\">4.1. Drop <code>id</code> Column</h4>\n",
    "\n",
    "<a href=\"#table_of_contents\" style=\"text-decoration: None\">Table of Contents</a>"
   ]
  },
  {
   "cell_type": "code",
   "execution_count": 11,
   "id": "929ddca9",
   "metadata": {},
   "outputs": [],
   "source": [
    "train_df.drop(columns=['id'], axis=1, inplace=True)"
   ]
  },
  {
   "cell_type": "markdown",
   "id": "bd86ac7d",
   "metadata": {},
   "source": [
    "<a id=\"eda\"></a>\n",
    "<h2 style=\"background-color:#0b0504;color:white;border-radius: 8px; padding:12px\">5. Exploratory Data Analysis</h2>\n",
    "\n",
    "<a href=\"#table_of_contents\" style=\"text-decoration: None\">Table of Contents</a>"
   ]
  },
  {
   "cell_type": "code",
   "execution_count": 12,
   "id": "b35eefd4",
   "metadata": {},
   "outputs": [],
   "source": [
    "#!pip install kaleido"
   ]
  },
  {
   "cell_type": "code",
   "execution_count": null,
   "id": "5a200760",
   "metadata": {},
   "outputs": [],
   "source": [
    "import matplotlib.pyplot as plt\n",
    "import seaborn as sns\n",
    "import plotly.express as px\n",
    "import plotly.graph_objects as go\n",
    "import plotly.subplots as sp\n",
    "\n",
    "sns.set_style(\"darkgrid\")"
   ]
  },
  {
   "cell_type": "code",
   "execution_count": null,
   "id": "12b0eedf",
   "metadata": {},
   "outputs": [],
   "source": [
    "# plot_color = ['lightcoral','#008080']\n",
    "plot_color = ['#008080', 'black']\n",
    "sns.set_palette(['#008080', 'black'])"
   ]
  },
  {
   "cell_type": "markdown",
   "id": "44bd59e7",
   "metadata": {},
   "source": [
    "<a id=\"univariate\"></a>\n",
    "<h4 style=\"background-color:#0b0504;color:white;border-radius: 8px; padding:12px\">5.1. Univariate Analysis</h4>\n",
    "\n",
    "<a href=\"#table_of_contents\" style=\"text-decoration: None\">Table of Contents</a>"
   ]
  },
  {
   "cell_type": "code",
   "execution_count": null,
   "id": "021c8487",
   "metadata": {},
   "outputs": [],
   "source": [
    "pd.DataFrame(train_df['Age'].describe())"
   ]
  },
  {
   "cell_type": "code",
   "execution_count": null,
   "id": "26c0ee8a",
   "metadata": {},
   "outputs": [],
   "source": [
    "pd.DataFrame(train_df['Age'].describe())"
   ]
  },
  {
   "cell_type": "markdown",
   "id": "cbccd9bf",
   "metadata": {},
   "source": [
    "<a id=\"bivariate\"></a>\n",
    "<h4 style=\"background-color:#0b0504;color:white;border-radius: 8px; padding:12px\">5.2. Bivariate Analysis</h4>\n",
    "\n",
    "<a href=\"#table_of_contents\" style=\"text-decoration: None\">Table of Contents</a>"
   ]
  },
  {
   "cell_type": "markdown",
   "id": "bb6265a8",
   "metadata": {},
   "source": [
    "<a id=\"data_preprocessing\"></a>\n",
    "<h2 style=\"background-color:#0b0504;color:white;border-radius: 8px; padding:12px\">6. Data Preparation and Preprocessing</h2>\n",
    "\n",
    "<a href=\"#table_of_contents\" style=\"text-decoration: None\">Table of Contents</a>"
   ]
  },
  {
   "cell_type": "code",
   "execution_count": null,
   "id": "6006e0ef",
   "metadata": {},
   "outputs": [],
   "source": []
  },
  {
   "cell_type": "markdown",
   "id": "c8b24544",
   "metadata": {},
   "source": [
    "<a id=\"baseline\"></a>\n",
    "<h2 style=\"background-color:#0b0504;color:white;border-radius: 8px; padding:12px\">7. Baseline Models</h2>\n",
    "\n",
    "<a href=\"#table_of_contents\" style=\"text-decoration: None\">Table of Contents</a>"
   ]
  },
  {
   "cell_type": "code",
   "execution_count": null,
   "id": "fdd71e11",
   "metadata": {},
   "outputs": [],
   "source": []
  },
  {
   "cell_type": "markdown",
   "id": "ffc1e37e",
   "metadata": {},
   "source": [
    "<a id=\"optimization\"></a>\n",
    "<h2 style=\"background-color:#0b0504;color:white;border-radius: 8px; padding:12px\">8. Optimization: Hyperparameter Tuning</h2>\n",
    "\n",
    "<a href=\"#table_of_contents\" style=\"text-decoration: None\">Table of Contents</a>"
   ]
  },
  {
   "cell_type": "code",
   "execution_count": null,
   "id": "bc59ef06",
   "metadata": {},
   "outputs": [],
   "source": []
  },
  {
   "cell_type": "markdown",
   "id": "e1be0b56",
   "metadata": {},
   "source": [
    "<a id=\"performance_summary\"></a>\n",
    "<h2 style=\"background-color:#0b0504;color:white;border-radius: 8px; padding:12px\">9. Performance Comparison and Summary</h2>\n",
    "\n",
    "<a href=\"#table_of_contents\" style=\"text-decoration: None\">Table of Contents</a>"
   ]
  },
  {
   "cell_type": "code",
   "execution_count": null,
   "id": "29e50b93",
   "metadata": {},
   "outputs": [],
   "source": []
  },
  {
   "cell_type": "markdown",
   "id": "be6beb61",
   "metadata": {},
   "source": [
    "<a id=\"save_model\"></a>\n",
    "<h2 style=\"background-color:#0b0504;color:white;border-radius: 8px; padding:12px\">10. Save Model</h2>\n",
    "\n",
    "<a href=\"#table_of_contents\" style=\"text-decoration: None\">Table of Contents</a>"
   ]
  },
  {
   "cell_type": "code",
   "execution_count": null,
   "id": "80cd47c5",
   "metadata": {},
   "outputs": [],
   "source": []
  }
 ],
 "metadata": {
  "kernelspec": {
   "display_name": "Python 3 (ipykernel)",
   "language": "python",
   "name": "python3"
  },
  "language_info": {
   "codemirror_mode": {
    "name": "ipython",
    "version": 3
   },
   "file_extension": ".py",
   "mimetype": "text/x-python",
   "name": "python",
   "nbconvert_exporter": "python",
   "pygments_lexer": "ipython3",
   "version": "3.9.5"
  }
 },
 "nbformat": 4,
 "nbformat_minor": 5
}
